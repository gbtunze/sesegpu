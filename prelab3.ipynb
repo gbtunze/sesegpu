{
 "cells": [
  {
   "cell_type": "code",
   "execution_count": null,
   "metadata": {},
   "outputs": [],
   "source": [
    "import tensorflow as tf\n",
    "mnist = tf.keras.datasets.mnist\n",
    "\n",
    "(x_train, y_train), (x_test, y_test) = mnist.load_data()"
   ]
  },
  {
   "cell_type": "markdown",
   "metadata": {},
   "source": [
    "The code below will take a very long time to run. You can stop after a while using the toolbar stop button and check what values of i and j it has currently reached. Evidently, we need to do something better. In general, only a solution which is reasonably fast on CPU (close to the sequential C++ CPU version) will have any chance to be fast using a Python GPU library."
   ]
  },
  {
   "cell_type": "code",
   "execution_count": null,
   "metadata": {},
   "outputs": [],
   "source": [
    "elems = x_test.shape[0]\n",
    "side = 28\n",
    "maxdivergence = 0\n",
    "\n",
    "for i in range(elems):\n",
    "    for j in range(elems):\n",
    "        sum = 0\n",
    "        for y in range(side):\n",
    "            for x in range(side):\n",
    "                sum += (x_test[i, y, x] + 0 - x_test[j, y, x]) ** 2\n",
    "        if sum > maxdivergence:\n",
    "            maxdivergence = sum\n",
    "            maxi = i\n",
    "            maxj = j\n",
    "            \n",
    "print(f'Maximum divergence at {maxi}, {maxj} with value {maxdivergence}')"
   ]
  }
 ],
 "metadata": {
  "kernelspec": {
   "display_name": "Python 3",
   "language": "python",
   "name": "python3"
  },
  "language_info": {
   "codemirror_mode": {
    "name": "ipython",
    "version": 3
   },
   "file_extension": ".py",
   "mimetype": "text/x-python",
   "name": "python",
   "nbconvert_exporter": "python",
   "pygments_lexer": "ipython3",
   "version": "3.7.6"
  }
 },
 "nbformat": 4,
 "nbformat_minor": 4
}
