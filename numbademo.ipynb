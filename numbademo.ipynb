{
 "cells": [
  {
   "cell_type": "code",
   "execution_count": null,
   "metadata": {},
   "outputs": [],
   "source": [
    "import numba\n",
    "import numpy\n",
    "from numba import cuda\n",
    "x_test = numpy.load('../.keras/datasets/mnist.npz')['x_test']\n"
   ]
  },
  {
   "cell_type": "code",
   "execution_count": null,
   "metadata": {},
   "outputs": [],
   "source": [
    "@cuda.jit('void(int32[:,:,:], int32[:,:])')\n",
    "def divergence_explicit(data, divergence):    \n",
    "    i, j = numba.cuda.grid(2)\n",
    "    for y in range(28):\n",
    "        for x in range(28):\n",
    "            divergence[i, j] += (data[i, y, x] - data[j, y, x]) ** 2"
   ]
  },
  {
   "cell_type": "code",
   "execution_count": null,
   "metadata": {},
   "outputs": [],
   "source": [
    "divergence = numpy.zeros((10000, 10000), dtype=numpy.int32)\n",
    "%time divergence_explicit[(625,625),(16,16)](x_test.astype(numpy.int32), divergence)"
   ]
  },
  {
   "cell_type": "code",
   "execution_count": null,
   "metadata": {},
   "outputs": [],
   "source": [
    "maxindex = numpy.argmax(divergence)\n",
    "maxi = maxindex // 10000\n",
    "maxj = maxindex % 10000"
   ]
  },
  {
   "cell_type": "code",
   "execution_count": null,
   "metadata": {},
   "outputs": [],
   "source": [
    "divergence[maxi, maxj]"
   ]
  },
  {
   "cell_type": "code",
   "execution_count": null,
   "metadata": {},
   "outputs": [],
   "source": [
    "from numba import cuda\n",
    "@cuda.jit('void(uint8[:,:,:], uint64[:])')\n",
    "def divergence(data, output):\n",
    "    sharedmem = numba.cuda.shared.array((1), numba.uint64)\n",
    "    localmem = numba.cuda.local.array((3), numba.int32)\n",
    "    finallocal = numba.cuda.local.array((1), numba.uint64)\n",
    "    localmem[0] = 0\n",
    "    if cuda.threadIdx.x and cuda.threadIdx.y == 0:    \n",
    "        sharedmem[0] = 0\n",
    "        \n",
    "    cuda.syncthreads()\n",
    "    i, j = numba.cuda.grid(2)\n",
    "    \n",
    "    for y in range(28):\n",
    "        for x in range(28):\n",
    "            localmem[1] = data[i, y, x]\n",
    "            localmem[2] = data[j, y, x]\n",
    "            localmem[1] -= localmem[2]\n",
    "            localmem[1] **= 2\n",
    "\n",
    "            localmem[0] += localmem[1]\n",
    "                \n",
    "    finallocal[0] = localmem[0]\n",
    "    finallocal[0] *= 4294967296\n",
    "    finallocal[0] += i * 65536\n",
    "    finallocal[0] += j\n",
    "    \n",
    "    cuda.atomic.max(sharedmem, 0, finallocal[0])\n",
    "    cuda.syncthreads()\n",
    "    if cuda.threadIdx.x == 0 and cuda.threadIdx.y == 0:\n",
    "        cuda.atomic.max(output, 0, sharedmem[0])\n",
    "    \n",
    "    "
   ]
  },
  {
   "cell_type": "code",
   "execution_count": null,
   "metadata": {},
   "outputs": [],
   "source": [
    "output = numpy.array(0, dtype=numpy.uint64)\n",
    "%time divergence[(625,625),(16,16)](x_test, output)\n",
    "output = output.astype(dtype=numpy.int64)\n",
    "\n",
    "div = numpy.right_shift(output, 32)\n",
    "maxi = numpy.bitwise_and(numpy.right_shift(output, 16), 65535)\n",
    "maxj = numpy.bitwise_and(output, 65535)"
   ]
  },
  {
   "cell_type": "code",
   "execution_count": null,
   "metadata": {},
   "outputs": [],
   "source": [
    "import cupy"
   ]
  },
  {
   "cell_type": "code",
   "execution_count": null,
   "metadata": {},
   "outputs": [],
   "source": [
    "x_test2 = cupy.array(x_test).reshape((10000,28*28))\n",
    "divergence = cupy.zeros((10000,10000),dtype=numpy.int32)\n",
    "row_kernel = cupy.ReductionKernel('uint8 x, uint8 y', 'int32 z',\n",
    "                                  '((int) x - (int) y) * ((int) x - (int) y)',\n",
    "                                  'a + b',\n",
    "                                  'z = a',\n",
    "                                  '0',\n",
    "                                  'row_kernel')\n",
    "\n"
   ]
  },
  {
   "cell_type": "code",
   "execution_count": null,
   "metadata": {},
   "outputs": [],
   "source": [
    "%time divergence[:, :] = row_kernel(x_test2.reshape((10000, 1, 28*28)), x_test2.reshape((1, 10000, 28*28)), axis=(2))"
   ]
  },
  {
   "cell_type": "code",
   "execution_count": null,
   "metadata": {},
   "outputs": [],
   "source": [
    "%time cupy.asnumpy(divergence)"
   ]
  },
  {
   "cell_type": "code",
   "execution_count": null,
   "metadata": {},
   "outputs": [],
   "source": []
  }
 ],
 "metadata": {
  "kernelspec": {
   "display_name": "Python 3",
   "language": "python",
   "name": "python3"
  },
  "language_info": {
   "codemirror_mode": {
    "name": "ipython",
    "version": 3
   },
   "file_extension": ".py",
   "mimetype": "text/x-python",
   "name": "python",
   "nbconvert_exporter": "python",
   "pygments_lexer": "ipython3",
   "version": "3.7.6"
  }
 },
 "nbformat": 4,
 "nbformat_minor": 4
}
